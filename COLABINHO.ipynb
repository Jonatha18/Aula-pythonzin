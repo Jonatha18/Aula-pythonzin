{
  "nbformat": 4,
  "nbformat_minor": 0,
  "metadata": {
    "colab": {
      "provenance": [],
      "authorship_tag": "ABX9TyMTA52AlaGpq9mDb/OorMaL",
      "include_colab_link": true
    },
    "kernelspec": {
      "name": "python3",
      "display_name": "Python 3"
    },
    "language_info": {
      "name": "python"
    }
  },
  "cells": [
    {
      "cell_type": "markdown",
      "metadata": {
        "id": "view-in-github",
        "colab_type": "text"
      },
      "source": [
        "<a href=\"https://colab.research.google.com/github/Jonatha18/Aula-pythonzin/blob/main/COLABINHO.ipynb\" target=\"_parent\"><img src=\"https://colab.research.google.com/assets/colab-badge.svg\" alt=\"Open In Colab\"/></a>"
      ]
    },
    {
      "cell_type": "code",
      "source": [
        "print('eu sou jonatha')"
      ],
      "metadata": {
        "colab": {
          "base_uri": "https://localhost:8080/"
        },
        "id": "XyfzL9oVAHQs",
        "outputId": "d325ac02-2328-4329-e55f-2ffa466138d0"
      },
      "execution_count": null,
      "outputs": [
        {
          "output_type": "stream",
          "name": "stdout",
          "text": [
            "eu sou jonatha\n"
          ]
        }
      ]
    },
    {
      "cell_type": "code",
      "source": [
        "#esse é meu nome"
      ],
      "metadata": {
        "id": "5EsXFCOXA4ec"
      },
      "execution_count": null,
      "outputs": []
    },
    {
      "cell_type": "code",
      "source": [
        "print(157+155)"
      ],
      "metadata": {
        "colab": {
          "base_uri": "https://localhost:8080/"
        },
        "id": "0O_3PwyLA8Rr",
        "outputId": "0c741036-8ec8-4fc9-ca8d-0c5f86fe4e6a"
      },
      "execution_count": null,
      "outputs": [
        {
          "output_type": "stream",
          "name": "stdout",
          "text": [
            "312\n"
          ]
        }
      ]
    },
    {
      "cell_type": "code",
      "source": [
        "#VARIAVEIS\n",
        "nome = 'jonatha'\n",
        "print('ola '+nome)"
      ],
      "metadata": {
        "colab": {
          "base_uri": "https://localhost:8080/"
        },
        "id": "cCroV6AVBrxU",
        "outputId": "fd78efd6-2d16-4c16-a6e2-3c82961ed97c"
      },
      "execution_count": null,
      "outputs": [
        {
          "output_type": "stream",
          "name": "stdout",
          "text": [
            "ola jonatha\n"
          ]
        }
      ]
    },
    {
      "cell_type": "code",
      "source": [
        "#variaveis numericas\n",
        "a = 42\n",
        "b = 10\n",
        "print(a+b)\n",
        "print(a/b)\n",
        "print(a-b)\n",
        "print(a*b)"
      ],
      "metadata": {
        "colab": {
          "base_uri": "https://localhost:8080/"
        },
        "id": "wkdfTLH4CgPK",
        "outputId": "6d0c216a-244f-4c08-e756-7611b9d1928f"
      },
      "execution_count": null,
      "outputs": [
        {
          "output_type": "stream",
          "name": "stdout",
          "text": [
            "52\n",
            "4.2\n",
            "32\n",
            "420\n"
          ]
        }
      ]
    },
    {
      "cell_type": "code",
      "source": [
        "#variaveis numericas parte 2\n",
        "nota1 = 8\n",
        "nota2 = 7\n",
        "nota3 = 5\n",
        "media = (nota1 + nota2 + nota3)/3\n",
        "print (media)"
      ],
      "metadata": {
        "colab": {
          "base_uri": "https://localhost:8080/"
        },
        "id": "ON4SscvlC_iy",
        "outputId": "1df35752-455f-482a-967c-5e77e7f44b7c"
      },
      "execution_count": null,
      "outputs": [
        {
          "output_type": "stream",
          "name": "stdout",
          "text": [
            "6.666666666666667\n"
          ]
        }
      ]
    },
    {
      "cell_type": "code",
      "source": [
        "nome = 'josé'  #string\n",
        "preco = 12.5   #float ou double\n",
        "idade = 30     #inteiro\n",
        "ehmaior = idade > 18 #lógica, booleanas'George Boole'"
      ],
      "metadata": {
        "id": "I8VjHacsv6go"
      },
      "execution_count": null,
      "outputs": []
    },
    {
      "cell_type": "markdown",
      "source": [
        "Entrada de dados no notepad"
      ],
      "metadata": {
        "id": "2Vn7_46q2NSq"
      }
    },
    {
      "cell_type": "code",
      "source": [
        "Nome = input('digite o nome do usuario: ')\n",
        "print ('Seja Bem-Vindo', Nome)"
      ],
      "metadata": {
        "colab": {
          "base_uri": "https://localhost:8080/"
        },
        "id": "NTboS0qq2TBy",
        "outputId": "26daea93-99c4-4ccd-d77f-356019cb7c5b"
      },
      "execution_count": 13,
      "outputs": [
        {
          "output_type": "stream",
          "name": "stdout",
          "text": [
            "digite o nome do usuario: Jonatha lindao\n",
            "Seja Bem-Vindo Jonatha lindao\n"
          ]
        }
      ]
    },
    {
      "cell_type": "code",
      "source": [
        "numero = int(input('insira um numero: '))\n",
        "print(numero * 2)"
      ],
      "metadata": {
        "colab": {
          "base_uri": "https://localhost:8080/"
        },
        "id": "ZlSa2UAV2xup",
        "outputId": "a8b61151-164f-40ca-fa6a-288cc762a51e"
      },
      "execution_count": 15,
      "outputs": [
        {
          "output_type": "stream",
          "name": "stdout",
          "text": [
            "insira um numero: 20\n",
            "40\n"
          ]
        }
      ]
    },
    {
      "cell_type": "code",
      "source": [
        "numero = int(input('insira o numero'))\n",
        "print (numero /2)"
      ],
      "metadata": {
        "colab": {
          "base_uri": "https://localhost:8080/"
        },
        "id": "qgwOOGnG55Q5",
        "outputId": "6fef2976-d5f3-4ea3-969f-35aaa8ed8844"
      },
      "execution_count": 16,
      "outputs": [
        {
          "output_type": "stream",
          "name": "stdout",
          "text": [
            "insira o numero20\n",
            "10.0\n"
          ]
        }
      ]
    },
    {
      "cell_type": "code",
      "source": [
        "#a circurferencia do circulo e medida pela formula\n",
        "#2 * pi * raio\n",
        "#Faça um algoritimo que pede o raio e retorna a circunferencia\n",
        "#use pi = 3.14"
      ],
      "metadata": {
        "id": "fKHREYQC7G3D"
      },
      "execution_count": null,
      "outputs": []
    },
    {
      "cell_type": "code",
      "source": [
        "raio = float(input('circunferencia do raio'))\n",
        "circunferencia = 2 * 3.14 * raio\n",
        "print(circunferencia)"
      ],
      "metadata": {
        "colab": {
          "base_uri": "https://localhost:8080/"
        },
        "id": "FiPSEMGZ7f-0",
        "outputId": "c1dc363d-001f-4027-8861-683a1b794cb6"
      },
      "execution_count": 19,
      "outputs": [
        {
          "output_type": "stream",
          "name": "stdout",
          "text": [
            "circunferencia do raio5\n",
            "31.400000000000002\n"
          ]
        }
      ]
    },
    {
      "cell_type": "code",
      "source": [
        "#solicita ao usuario a altura e o peso\n",
        "#retorna o calculo do IMC\n",
        "#peso dividido pela altura ao quadrado"
      ],
      "metadata": {
        "id": "GrokkUHB81yv"
      },
      "execution_count": null,
      "outputs": []
    },
    {
      "cell_type": "code",
      "source": [
        "peso = float(input('insira seu peso'))\n",
        "altura = float(input('insira seu altura'))\n",
        "IMC = peso / altura**2\n",
        "print('O IMC é', IMC)"
      ],
      "metadata": {
        "colab": {
          "base_uri": "https://localhost:8080/"
        },
        "id": "hPgdThXw9Kh4",
        "outputId": "1d6bf3d6-952d-43a4-af59-49412c1e5ecd"
      },
      "execution_count": 21,
      "outputs": [
        {
          "output_type": "stream",
          "name": "stdout",
          "text": [
            "insira seu peso60\n",
            "insira seu altura1.75\n",
            "O IMC é 19.591836734693878\n"
          ]
        }
      ]
    },
    {
      "cell_type": "code",
      "source": [
        "#converter uma temperatura em graus celsius para kelvin\n",
        "#temperatura em celsius e soma 274\n"
      ],
      "metadata": {
        "id": "weCDThbh_GjR"
      },
      "execution_count": null,
      "outputs": []
    },
    {
      "cell_type": "code",
      "source": [
        "celsius = float(input('insira o grau de temperatura: '))\n",
        "print(celsius + 274)\n",
        "print('MUITO QUENTE')"
      ],
      "metadata": {
        "colab": {
          "base_uri": "https://localhost:8080/"
        },
        "id": "P_wxEiCM_xcJ",
        "outputId": "26404731-c321-4576-dea1-9d66d69ed131"
      },
      "execution_count": 26,
      "outputs": [
        {
          "output_type": "stream",
          "name": "stdout",
          "text": [
            "insira o grau de temperatura: 50\n",
            "324.0\n",
            "MUITO QUENTE\n"
          ]
        }
      ]
    },
    {
      "cell_type": "code",
      "source": [],
      "metadata": {
        "id": "k1ev2v11A756"
      },
      "execution_count": null,
      "outputs": []
    },
    {
      "cell_type": "markdown",
      "source": [
        "#Estruturas de contrel If e Else"
      ],
      "metadata": {
        "id": "EklzQSmvBBs5"
      }
    },
    {
      "cell_type": "code",
      "source": [
        "#pede a idade da pessoa\n",
        "#se for maior de 18 anos\n",
        "#esta apto ao concurso publico\n",
        ""
      ],
      "metadata": {
        "id": "qTVqdpnRBKUp"
      },
      "execution_count": null,
      "outputs": []
    },
    {
      "cell_type": "code",
      "source": [
        "idade = int(input('Digite sua idade: '))\n",
        "if(idade >=18):\n",
        "  print('apto ao consurso')\n",
        "else:\n",
        "  print('não está apto')"
      ],
      "metadata": {
        "colab": {
          "base_uri": "https://localhost:8080/"
        },
        "id": "Umr7jTg7CsEx",
        "outputId": "1fc33acb-40b1-4c6d-97f1-9f46417ccce2"
      },
      "execution_count": 33,
      "outputs": [
        {
          "output_type": "stream",
          "name": "stdout",
          "text": [
            "Digite sua idade: 24\n",
            "apto ao consurso\n"
          ]
        }
      ]
    },
    {
      "cell_type": "code",
      "source": [
        "#classificador de numeros.\n",
        "#recebe um numero e diz se ele é positivo negativo ou zero"
      ],
      "metadata": {
        "id": "CyT2gDy9Dr_U"
      },
      "execution_count": null,
      "outputs": []
    },
    {
      "cell_type": "code",
      "source": [
        "numero = int(input('Digite um Numero: '))\n",
        "if(numero >0):\n",
        "  print('positivo')\n",
        "elif(numero <0):\n",
        "  print('Negativo')\n",
        "else:\n",
        "  print('Zero')"
      ],
      "metadata": {
        "colab": {
          "base_uri": "https://localhost:8080/"
        },
        "id": "sWvkMVN8D3W-",
        "outputId": "89c47d03-3283-4867-d117-627cf1616033"
      },
      "execution_count": 36,
      "outputs": [
        {
          "output_type": "stream",
          "name": "stdout",
          "text": [
            "Digite um Numero: 157\n",
            "positivo\n"
          ]
        }
      ]
    },
    {
      "cell_type": "code",
      "source": [
        "#recebe dois numeros\n",
        "#diz qual o maior\n",
        "#informa se eles forem iguais"
      ],
      "metadata": {
        "id": "YK84nSNcFHrD"
      },
      "execution_count": null,
      "outputs": []
    },
    {
      "cell_type": "code",
      "source": [
        "num1 = int(input('digite o primeiro numero: '))\n",
        "num2 = int(input('digite o segundo numero: '))\n",
        "if(num1 > num2):\n",
        "  print('o primeiro numero e maior')\n",
        "elif(num1 < num2):\n",
        "  print('o segundo numero e maior')\n",
        "else:\n",
        "  print('sao iguais')"
      ],
      "metadata": {
        "colab": {
          "base_uri": "https://localhost:8080/"
        },
        "id": "3ACmjNi7FRhM",
        "outputId": "86a86bd8-6457-4616-be30-b749d7494adf"
      },
      "execution_count": 39,
      "outputs": [
        {
          "output_type": "stream",
          "name": "stdout",
          "text": [
            "digite o primeiro numero: 10\n",
            "digite o segundo numero: 20\n",
            "o segundo numero e maior\n"
          ]
        }
      ]
    },
    {
      "cell_type": "code",
      "source": [
        "#salvar copia"
      ],
      "metadata": {
        "id": "W5R0ksQaHYY8"
      },
      "execution_count": null,
      "outputs": []
    }
  ]
}